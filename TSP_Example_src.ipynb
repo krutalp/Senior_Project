{
  "cells": [
    {
      "cell_type": "markdown",
      "metadata": {
        "id": "B6vaqi4FQGJm"
      },
      "source": [
        "# Traveling Salesman Problem\n",
        "\n",
        "## Objective and Prerequisites\n",
        "\n",
        "In this example, you’ll learn how to tackle one of the most famous combinatorial optimization problems in existence: the Traveling Salesman Problem (TSP). The goal of the TSP – to find the shortest possible route that visits each city once and returns to the original city – is simple, but solving the problem is a complex and challenging endeavor. We’ll show you how to do it!\n",
        "\n",
        "This modeling example is at the advanced level, where we assume that you know Python and the Gurobi Python API and that you have advanced knowledge of building mathematical optimization models. Typically, the objective function and/or constraints of these examples are complex or require advanced features of the Gurobi Python API.\n",
        "\n",
        "**Download the Repository** <br />\n",
        "You can download the repository containing this and other examples by clicking [here](https://github.com/Gurobi/modeling-examples/archive/master.zip)."
      ]
    },
    {
      "cell_type": "markdown",
      "metadata": {
        "id": "qlMNfo2xQGJr"
      },
      "source": [
        "## Motivation\n",
        "\n",
        "The Traveling Salesman Problem (TSP) is one of the most famous combinatorial optimization problems. This problem is very easy to explain, but very complicated to solve – even for instances with a small number of cities. More detailed information on the TSP can be found in the book The Traveling Salesman Problem: A Computational Study [1], or at the TSP home page [2]. If you are interested in the history and mathematical background of the TSP, we recommend that you watch the video by William Cook [3].\n",
        "\n",
        "The origin of the traveling salesman problem is not very clear; it is mentioned in an 1832 manual for traveling salesman, which included example tours of 45 German cities but was not formulated as a mathematical problem. However, in the 1800s, mathematicians William Rowan Hamilton and Thomas Kirkman devised mathematical formulations of the problem.\n",
        "\n",
        "It seems that the general form of the Traveling Salesman Problem was first studied by Karl Menger in Vienna and Harvard in the 1930s.\n",
        "\n",
        "The problem became more and more popular in the 1950s and 1960s. In particular, George Dantzig, D. Ray Fulkerson, and Selmer M. Johnson at the RAND Corporation solved the 48-state problem by formulating it as a linear programming problem. The methods they described in their paper on this topic set the foundation for future work in combinatorial optimization, especially highlighting the importance of cutting planes.\n",
        "\n",
        "In the early 1970s, the concept of P vs. NP problems created excitement in the theoretical computer science community. In 1972, Richard Karp demonstrated that the Hamiltonian cycle problem was NP-complete, implying that the traveling salesman problem was NP-hard.\n",
        "\n",
        "Increasingly sophisticated codes led to rapid increases in the sizes of the traveling salesman problems solved. Dantzig, Fulkerson, and Johnson had solved a 48-city instance of the problem in 1954. Martin Grötechel more than doubled this 23 years later, solving a 120-city instance in 1977. Harlan Crowder and Manfred W. Padberg again more than doubled this in just 3 years, with a 318-city solution.\n",
        "\n",
        "In 1987, rapid improvements were made, culminating in a 2,392-city solution by Padberg and Giovanni Rinaldi. In the following two decades, great strides were made with David L. Applegate, Robert E. Bixby, Vasek Chvátal, & William J. Cook solving a 3,308-city instance in 1992, a 7,397-city instance in 1994, a 24,978-city instance in 2004, and an 85,900-city instance in 2006 – which is the largest 2-D Euclidean TSP instance ever solved. William Cook et. al. wrote a program called Concorde TSP Solver for solving the TSP [4]. Concorde is a computer code for the symmetric TSP and some related network optimization problems. The code is written in the ANSI C programming language and it has been used to obtain the optimal solutions to the full set of 110 TSPLIB instances, the largest instance is a 109,399 node 3-D “star” instance.\n",
        "\n",
        "The continued interest in the TSP can be explained by its success as a general engine of discovery and a steady stream of new applications. Some of the general applications of the TSP are as follows:\n",
        "* Scheduling and routing problems.\n",
        "* Genome sequencing.\n",
        "* Drilling problems.\n",
        "* Aiming telescopes and x-rays.\n",
        "* Data clustering.\n",
        "* Machine scheduling.\n",
        "\n",
        "We use this classic combinatorial optimization problem to demonstrate how Gurobi can be used to easily and effectively solve small-sized problem instances of the TSP. However, in order to be able to solve larger instances, one needs more sophisticated techniques – such as those implemented in the Concord TSP Solver."
      ]
    },
    {
      "cell_type": "markdown",
      "metadata": {
        "id": "xtW2WwwmQGJr"
      },
      "source": [
        "## Problem Description\n",
        "The TSP can be defined as follows: for a given list of cities and the distances between each pair of them, we want to find the shortest possible route that goes to each city once and returns to the origin city.\n",
        "\n",
        "There is a class of Traveling Salesman Problems that assumes that the distance of going from city $i$ to city $j$  is the same as going form city $j$ to city $i$, this type of Traveling Salesman Problem  is also known as the symmetric Traveling Salesman Problem. In this example, we use Euclidean distances, but the TSP model formulation is valid independent of the way in which the individual distances are determined.\n",
        "\n",
        "\n",
        "## Solution Approach\n",
        "\n",
        "Mathematical programming is a declarative approach where the modeler formulates a mathematical optimization model that captures the key aspects of a complex decision problem. The Gurobi Optimizer solves such models using state-of-the-art mathematics and computer science.\n",
        "\n",
        "A mathematical optimization model has five components, namely:\n",
        "\n",
        "* Sets and indices.\n",
        "* Parameters.\n",
        "* Decision variables.\n",
        "* Objective function(s).\n",
        "* Constraints.\n",
        "\n",
        "We now present a MIP formulation of the TSP that identifies the shortest route that goes to all the cities once and returns to the origin city.\n",
        "\n",
        "## TSP Model Formulation\n",
        "\n",
        "### Sets and Indices\n",
        "$i, j \\in Capitals $: indices and set of US capital cities.\n",
        "\n",
        "$\\text{Pairings}= \\{(i,j) \\in Capitals \\times Capitals \\}$: Set of allowed pairings\n",
        "\n",
        "$S \\subset Capitals$: A subset of the set of US capital cities.\n",
        "\n",
        "$G = (Capitals, Pairings)$: A graph where the set $Capitals$ defines the set of nodes and the set $Pairings$ defines the set of edges.\n",
        "\n",
        "### Parameters\n",
        "\n",
        "$d_{i, j} \\in \\mathbb{R}^+$: Distance from capital city $i$ to capital city $j$, for all $(i, j) \\in Pairings$.\n",
        "\n",
        "Notice that the distance from capital city $i$ to capital city $j$ is the same as the distance from capital city $j$ to capital city $i$, i.e. $d_{i, j} = d_{j, i}$. For this reason, this TSP is also called the symmetric Traveling Salesman Problem.\n",
        "\n",
        "### Decision Variables\n",
        "$x_{i, j} \\in \\{0, 1\\}$: This variable is equal to 1, if we decide to connect city $i$ with city $j$. Otherwise, the decision variable is equal to zero.\n",
        "\n",
        "### Objective Function\n",
        "- **Shortest Route**. Minimize the total distance of a route. A route is a sequence of capital cities where the salesperson visits each city only once and returns to the starting capital city.\n",
        "\n",
        "\\begin{equation}\n",
        "\\text{Min} \\quad Z = \\sum_{(i,j) \\in \\text{Pairings}}d_{i,j} \\cdot x_{i,j}\n",
        "\\tag{0}\n",
        "\\end{equation}\n",
        "\n",
        "### Constraints\n",
        "- **Symmetry Constraints**. For each edge $(i,j)$, ensure that the city capitals $i$ and $j$ are connected, if the former is visited immediately before or after visiting the latter.\n",
        "\n",
        "\\begin{equation}\n",
        "x_{i, j} = x_{j, i} \\quad \\forall (i, j) \\in Pairings\n",
        "\\tag{1}\n",
        "\\end{equation}\n",
        "\n",
        "- **Entering and leaving a capital city**. For each capital city $i$, ensure that this city is connected to two other cities.\n",
        "\n",
        "\\begin{equation}\n",
        "\\sum_{(i,j) \\in \\text{Pairings}}x_{i,j} = 2 \\quad \\forall  i \\in Capitals\n",
        "\\tag{2}\n",
        "\\end{equation}\n",
        "\n",
        "- **Subtour elimination**. These constraints ensure that for any subset of cities $S$ of the set of $Capitals$, there is no cycle. That is, there is no route that visits all the cities in the subset and returns to the origin city.\n",
        "\n",
        "\\begin{equation}\n",
        "\\sum_{(i \\neq j) \\in S}x_{i,j} \\leq |S|-1 \\quad \\forall  S \\subset  Capitals\n",
        "\\tag{3}\n",
        "\\end{equation}\n",
        "\n",
        "- **Remark**. In general, if the number of cities of the TSP is $n$, then the possible number of routes is n\\!.\n",
        "Since there are an exponential number of constraints ($2^{n} - 2$) to eliminate cycles, we use lazy constraints to dynamically eliminate those cycles."
      ]
    },
    {
      "cell_type": "markdown",
      "metadata": {
        "id": "5VyXnnHtQGJs"
      },
      "source": [
        "## Python Implementation\n",
        "\n",
        "Consider a salesperson that needs to visit customers at each state capital of the continental US. The salesperson wants to identify the shortest route that goes to all the state capitals.\n",
        "\n",
        "This modeling example requires the following libraries that are not part of the standard Python distribution:\n",
        "* **folium**: to create maps.\n",
        "* **gurobipy**: provides Gurobi algorithms to solve MIP models.\n"
      ]
    },
    {
      "cell_type": "markdown",
      "metadata": {
        "id": "zGJNOt7ZQGJs"
      },
      "source": [
        "### Reading Input Data\n",
        "The capital names and coordinates are read from a json file."
      ]
    },
    {
      "cell_type": "code",
      "execution_count": null,
      "metadata": {
        "id": "L7xsAzT0QGJs"
      },
      "outputs": [],
      "source": [
        "%pip install gurobipy"
      ]
    },
    {
      "cell_type": "code",
      "execution_count": 1,
      "metadata": {},
      "outputs": [],
      "source": [
        "import pandas as pd\n",
        "import numpy as np"
      ]
    },
    {
      "cell_type": "code",
      "execution_count": 6,
      "metadata": {},
      "outputs": [
        {
          "data": {
            "text/plain": [
              "[]"
            ]
          },
          "execution_count": 6,
          "metadata": {},
          "output_type": "execute_result"
        }
      ],
      "source": [
        "list()"
      ]
    },
    {
      "cell_type": "code",
      "execution_count": null,
      "metadata": {},
      "outputs": [],
      "source": []
    },
    {
      "cell_type": "code",
      "execution_count": 2,
      "metadata": {
        "id": "DXXz3m3BQGJu"
      },
      "outputs": [],
      "source": [
        "import json\n",
        "\n",
        "# Read capital names and coordinates from json file\n",
        "try:\n",
        "  capitals_json = json.load(open('capitals.json'))\n",
        "# when running locally the following lines can be omitted\n",
        "except:\n",
        "  import urllib.request\n",
        "  url = 'https://raw.githubusercontent.com/Gurobi/modeling-examples/master/traveling_salesman/capitals.json'\n",
        "  data = urllib.request.urlopen(url).read()\n",
        "  capitals_json = json.loads(data)\n",
        "\n",
        "capitals = []\n",
        "coordinates = {}\n",
        "for state in capitals_json:\n",
        "    if state not in ['AK', 'HI']:\n",
        "      capital = capitals_json[state]['capital']\n",
        "      capitals.append(capital)\n",
        "      coordinates[capital] = (float(capitals_json[state]['lat']), float(capitals_json[state]['long']))"
      ]
    },
    {
      "cell_type": "code",
      "execution_count": 3,
      "metadata": {},
      "outputs": [
        {
          "data": {
            "text/plain": [
              "{'Montgomery': (32.361538, -86.279118),\n",
              " 'Phoenix': (33.448457, -112.073844),\n",
              " 'Little Rock': (34.736009, -92.331122),\n",
              " 'Sacramento': (38.555605, -121.468926),\n",
              " 'Denver': (39.7391667, -104.984167),\n",
              " 'Hartford': (41.767, -72.677),\n",
              " 'Dover': (39.161921, -75.526755),\n",
              " 'Tallahassee': (30.4518, -84.27277),\n",
              " 'Atlanta': (33.76, -84.39),\n",
              " 'Boise': (43.613739, -116.237651),\n",
              " 'Springfield': (39.78325, -89.650373),\n",
              " 'Indianapolis': (39.790942, -86.147685),\n",
              " 'Des Moines': (41.590939, -93.620866),\n",
              " 'Topeka': (39.04, -95.69),\n",
              " 'Frankfort': (38.197274, -84.86311),\n",
              " 'Baton Rouge': (30.45809, -91.140229),\n",
              " 'Augusta': (44.323535, -69.765261),\n",
              " 'Annapolis': (38.972945, -76.501157),\n",
              " 'Boston': (42.2352, -71.0275),\n",
              " 'Lansing': (42.7335, -84.5467),\n",
              " 'Saint Paul': (44.95, -93.094),\n",
              " 'Jackson': (32.32, -90.207),\n",
              " 'Jefferson City': (38.572954, -92.189283),\n",
              " 'Helana': (46.595805, -112.027031),\n",
              " 'Lincoln': (40.809868, -96.675345),\n",
              " 'Carson City': (39.160949, -119.753877),\n",
              " 'Concord': (43.220093, -71.549127),\n",
              " 'Trenton': (40.221741, -74.756138),\n",
              " 'Santa Fe': (35.667231, -105.964575),\n",
              " 'Albany': (42.659829, -73.781339),\n",
              " 'Raleigh': (35.771, -78.638),\n",
              " 'Bismarck': (46.813343, -100.779004),\n",
              " 'Columbus': (39.962245, -83.000647),\n",
              " 'Oklahoma City': (35.482309, -97.534994),\n",
              " 'Salem': (44.931109, -123.029159),\n",
              " 'Harrisburg': (40.269789, -76.875613),\n",
              " 'Providence': (41.82355, -71.422132),\n",
              " 'Columbia': (34.0, -81.035),\n",
              " 'Pierre': (44.367966, -100.336378),\n",
              " 'Nashville': (36.165, -86.784),\n",
              " 'Austin': (30.266667, -97.75),\n",
              " 'Salt Lake City': (40.7547, -111.892622),\n",
              " 'Montpelier': (44.26639, -72.57194),\n",
              " 'Richmond': (37.54, -77.46),\n",
              " 'Olympia': (47.042418, -122.893077),\n",
              " 'Charleston': (38.349497, -81.633294),\n",
              " 'Madison': (43.074722, -89.384444),\n",
              " 'Cheyenne': (41.145548, -104.802042)}"
            ]
          },
          "execution_count": 3,
          "metadata": {},
          "output_type": "execute_result"
        }
      ],
      "source": [
        "coordinates"
      ]
    },
    {
      "cell_type": "markdown",
      "metadata": {
        "id": "1SlporzEQGJu"
      },
      "source": [
        "### Data computation\n",
        "The following function calculates the distance for each pair of state capitals. Since we are solving the _symmetric_ traveling salesman problem, we use _combinations_ of cities."
      ]
    },
    {
      "cell_type": "code",
      "execution_count": 4,
      "metadata": {
        "id": "4dH0Z72CQGJu"
      },
      "outputs": [],
      "source": [
        "import math\n",
        "from itertools import combinations\n",
        "\n",
        "# Compute pairwise distance matrix\n",
        "\n",
        "def distance(city1, city2):\n",
        "    c1 = coordinates[city1]\n",
        "    c2 = coordinates[city2]\n",
        "    diff = (c1[0]-c2[0], c1[1]-c2[1])\n",
        "    return math.sqrt(diff[0]*diff[0]+diff[1]*diff[1])\n",
        "\n",
        "dist = {(c1, c2): distance(c1, c2) for c1, c2 in combinations(capitals, 2)}"
      ]
    },
    {
      "cell_type": "code",
      "execution_count": 7,
      "metadata": {},
      "outputs": [
        {
          "data": {
            "text/plain": [
              "dict_keys([('Montgomery', 'Phoenix'), ('Montgomery', 'Little Rock'), ('Montgomery', 'Sacramento'), ('Montgomery', 'Denver'), ('Montgomery', 'Hartford'), ('Montgomery', 'Dover'), ('Montgomery', 'Tallahassee'), ('Montgomery', 'Atlanta'), ('Montgomery', 'Boise'), ('Montgomery', 'Springfield'), ('Montgomery', 'Indianapolis'), ('Montgomery', 'Des Moines'), ('Montgomery', 'Topeka'), ('Montgomery', 'Frankfort'), ('Montgomery', 'Baton Rouge'), ('Montgomery', 'Augusta'), ('Montgomery', 'Annapolis'), ('Montgomery', 'Boston'), ('Montgomery', 'Lansing'), ('Montgomery', 'Saint Paul'), ('Montgomery', 'Jackson'), ('Montgomery', 'Jefferson City'), ('Montgomery', 'Helana'), ('Montgomery', 'Lincoln'), ('Montgomery', 'Carson City'), ('Montgomery', 'Concord'), ('Montgomery', 'Trenton'), ('Montgomery', 'Santa Fe'), ('Montgomery', 'Albany'), ('Montgomery', 'Raleigh'), ('Montgomery', 'Bismarck'), ('Montgomery', 'Columbus'), ('Montgomery', 'Oklahoma City'), ('Montgomery', 'Salem'), ('Montgomery', 'Harrisburg'), ('Montgomery', 'Providence'), ('Montgomery', 'Columbia'), ('Montgomery', 'Pierre'), ('Montgomery', 'Nashville'), ('Montgomery', 'Austin'), ('Montgomery', 'Salt Lake City'), ('Montgomery', 'Montpelier'), ('Montgomery', 'Richmond'), ('Montgomery', 'Olympia'), ('Montgomery', 'Charleston'), ('Montgomery', 'Madison'), ('Montgomery', 'Cheyenne'), ('Phoenix', 'Little Rock'), ('Phoenix', 'Sacramento'), ('Phoenix', 'Denver'), ('Phoenix', 'Hartford'), ('Phoenix', 'Dover'), ('Phoenix', 'Tallahassee'), ('Phoenix', 'Atlanta'), ('Phoenix', 'Boise'), ('Phoenix', 'Springfield'), ('Phoenix', 'Indianapolis'), ('Phoenix', 'Des Moines'), ('Phoenix', 'Topeka'), ('Phoenix', 'Frankfort'), ('Phoenix', 'Baton Rouge'), ('Phoenix', 'Augusta'), ('Phoenix', 'Annapolis'), ('Phoenix', 'Boston'), ('Phoenix', 'Lansing'), ('Phoenix', 'Saint Paul'), ('Phoenix', 'Jackson'), ('Phoenix', 'Jefferson City'), ('Phoenix', 'Helana'), ('Phoenix', 'Lincoln'), ('Phoenix', 'Carson City'), ('Phoenix', 'Concord'), ('Phoenix', 'Trenton'), ('Phoenix', 'Santa Fe'), ('Phoenix', 'Albany'), ('Phoenix', 'Raleigh'), ('Phoenix', 'Bismarck'), ('Phoenix', 'Columbus'), ('Phoenix', 'Oklahoma City'), ('Phoenix', 'Salem'), ('Phoenix', 'Harrisburg'), ('Phoenix', 'Providence'), ('Phoenix', 'Columbia'), ('Phoenix', 'Pierre'), ('Phoenix', 'Nashville'), ('Phoenix', 'Austin'), ('Phoenix', 'Salt Lake City'), ('Phoenix', 'Montpelier'), ('Phoenix', 'Richmond'), ('Phoenix', 'Olympia'), ('Phoenix', 'Charleston'), ('Phoenix', 'Madison'), ('Phoenix', 'Cheyenne'), ('Little Rock', 'Sacramento'), ('Little Rock', 'Denver'), ('Little Rock', 'Hartford'), ('Little Rock', 'Dover'), ('Little Rock', 'Tallahassee'), ('Little Rock', 'Atlanta'), ('Little Rock', 'Boise'), ('Little Rock', 'Springfield'), ('Little Rock', 'Indianapolis'), ('Little Rock', 'Des Moines'), ('Little Rock', 'Topeka'), ('Little Rock', 'Frankfort'), ('Little Rock', 'Baton Rouge'), ('Little Rock', 'Augusta'), ('Little Rock', 'Annapolis'), ('Little Rock', 'Boston'), ('Little Rock', 'Lansing'), ('Little Rock', 'Saint Paul'), ('Little Rock', 'Jackson'), ('Little Rock', 'Jefferson City'), ('Little Rock', 'Helana'), ('Little Rock', 'Lincoln'), ('Little Rock', 'Carson City'), ('Little Rock', 'Concord'), ('Little Rock', 'Trenton'), ('Little Rock', 'Santa Fe'), ('Little Rock', 'Albany'), ('Little Rock', 'Raleigh'), ('Little Rock', 'Bismarck'), ('Little Rock', 'Columbus'), ('Little Rock', 'Oklahoma City'), ('Little Rock', 'Salem'), ('Little Rock', 'Harrisburg'), ('Little Rock', 'Providence'), ('Little Rock', 'Columbia'), ('Little Rock', 'Pierre'), ('Little Rock', 'Nashville'), ('Little Rock', 'Austin'), ('Little Rock', 'Salt Lake City'), ('Little Rock', 'Montpelier'), ('Little Rock', 'Richmond'), ('Little Rock', 'Olympia'), ('Little Rock', 'Charleston'), ('Little Rock', 'Madison'), ('Little Rock', 'Cheyenne'), ('Sacramento', 'Denver'), ('Sacramento', 'Hartford'), ('Sacramento', 'Dover'), ('Sacramento', 'Tallahassee'), ('Sacramento', 'Atlanta'), ('Sacramento', 'Boise'), ('Sacramento', 'Springfield'), ('Sacramento', 'Indianapolis'), ('Sacramento', 'Des Moines'), ('Sacramento', 'Topeka'), ('Sacramento', 'Frankfort'), ('Sacramento', 'Baton Rouge'), ('Sacramento', 'Augusta'), ('Sacramento', 'Annapolis'), ('Sacramento', 'Boston'), ('Sacramento', 'Lansing'), ('Sacramento', 'Saint Paul'), ('Sacramento', 'Jackson'), ('Sacramento', 'Jefferson City'), ('Sacramento', 'Helana'), ('Sacramento', 'Lincoln'), ('Sacramento', 'Carson City'), ('Sacramento', 'Concord'), ('Sacramento', 'Trenton'), ('Sacramento', 'Santa Fe'), ('Sacramento', 'Albany'), ('Sacramento', 'Raleigh'), ('Sacramento', 'Bismarck'), ('Sacramento', 'Columbus'), ('Sacramento', 'Oklahoma City'), ('Sacramento', 'Salem'), ('Sacramento', 'Harrisburg'), ('Sacramento', 'Providence'), ('Sacramento', 'Columbia'), ('Sacramento', 'Pierre'), ('Sacramento', 'Nashville'), ('Sacramento', 'Austin'), ('Sacramento', 'Salt Lake City'), ('Sacramento', 'Montpelier'), ('Sacramento', 'Richmond'), ('Sacramento', 'Olympia'), ('Sacramento', 'Charleston'), ('Sacramento', 'Madison'), ('Sacramento', 'Cheyenne'), ('Denver', 'Hartford'), ('Denver', 'Dover'), ('Denver', 'Tallahassee'), ('Denver', 'Atlanta'), ('Denver', 'Boise'), ('Denver', 'Springfield'), ('Denver', 'Indianapolis'), ('Denver', 'Des Moines'), ('Denver', 'Topeka'), ('Denver', 'Frankfort'), ('Denver', 'Baton Rouge'), ('Denver', 'Augusta'), ('Denver', 'Annapolis'), ('Denver', 'Boston'), ('Denver', 'Lansing'), ('Denver', 'Saint Paul'), ('Denver', 'Jackson'), ('Denver', 'Jefferson City'), ('Denver', 'Helana'), ('Denver', 'Lincoln'), ('Denver', 'Carson City'), ('Denver', 'Concord'), ('Denver', 'Trenton'), ('Denver', 'Santa Fe'), ('Denver', 'Albany'), ('Denver', 'Raleigh'), ('Denver', 'Bismarck'), ('Denver', 'Columbus'), ('Denver', 'Oklahoma City'), ('Denver', 'Salem'), ('Denver', 'Harrisburg'), ('Denver', 'Providence'), ('Denver', 'Columbia'), ('Denver', 'Pierre'), ('Denver', 'Nashville'), ('Denver', 'Austin'), ('Denver', 'Salt Lake City'), ('Denver', 'Montpelier'), ('Denver', 'Richmond'), ('Denver', 'Olympia'), ('Denver', 'Charleston'), ('Denver', 'Madison'), ('Denver', 'Cheyenne'), ('Hartford', 'Dover'), ('Hartford', 'Tallahassee'), ('Hartford', 'Atlanta'), ('Hartford', 'Boise'), ('Hartford', 'Springfield'), ('Hartford', 'Indianapolis'), ('Hartford', 'Des Moines'), ('Hartford', 'Topeka'), ('Hartford', 'Frankfort'), ('Hartford', 'Baton Rouge'), ('Hartford', 'Augusta'), ('Hartford', 'Annapolis'), ('Hartford', 'Boston'), ('Hartford', 'Lansing'), ('Hartford', 'Saint Paul'), ('Hartford', 'Jackson'), ('Hartford', 'Jefferson City'), ('Hartford', 'Helana'), ('Hartford', 'Lincoln'), ('Hartford', 'Carson City'), ('Hartford', 'Concord'), ('Hartford', 'Trenton'), ('Hartford', 'Santa Fe'), ('Hartford', 'Albany'), ('Hartford', 'Raleigh'), ('Hartford', 'Bismarck'), ('Hartford', 'Columbus'), ('Hartford', 'Oklahoma City'), ('Hartford', 'Salem'), ('Hartford', 'Harrisburg'), ('Hartford', 'Providence'), ('Hartford', 'Columbia'), ('Hartford', 'Pierre'), ('Hartford', 'Nashville'), ('Hartford', 'Austin'), ('Hartford', 'Salt Lake City'), ('Hartford', 'Montpelier'), ('Hartford', 'Richmond'), ('Hartford', 'Olympia'), ('Hartford', 'Charleston'), ('Hartford', 'Madison'), ('Hartford', 'Cheyenne'), ('Dover', 'Tallahassee'), ('Dover', 'Atlanta'), ('Dover', 'Boise'), ('Dover', 'Springfield'), ('Dover', 'Indianapolis'), ('Dover', 'Des Moines'), ('Dover', 'Topeka'), ('Dover', 'Frankfort'), ('Dover', 'Baton Rouge'), ('Dover', 'Augusta'), ('Dover', 'Annapolis'), ('Dover', 'Boston'), ('Dover', 'Lansing'), ('Dover', 'Saint Paul'), ('Dover', 'Jackson'), ('Dover', 'Jefferson City'), ('Dover', 'Helana'), ('Dover', 'Lincoln'), ('Dover', 'Carson City'), ('Dover', 'Concord'), ('Dover', 'Trenton'), ('Dover', 'Santa Fe'), ('Dover', 'Albany'), ('Dover', 'Raleigh'), ('Dover', 'Bismarck'), ('Dover', 'Columbus'), ('Dover', 'Oklahoma City'), ('Dover', 'Salem'), ('Dover', 'Harrisburg'), ('Dover', 'Providence'), ('Dover', 'Columbia'), ('Dover', 'Pierre'), ('Dover', 'Nashville'), ('Dover', 'Austin'), ('Dover', 'Salt Lake City'), ('Dover', 'Montpelier'), ('Dover', 'Richmond'), ('Dover', 'Olympia'), ('Dover', 'Charleston'), ('Dover', 'Madison'), ('Dover', 'Cheyenne'), ('Tallahassee', 'Atlanta'), ('Tallahassee', 'Boise'), ('Tallahassee', 'Springfield'), ('Tallahassee', 'Indianapolis'), ('Tallahassee', 'Des Moines'), ('Tallahassee', 'Topeka'), ('Tallahassee', 'Frankfort'), ('Tallahassee', 'Baton Rouge'), ('Tallahassee', 'Augusta'), ('Tallahassee', 'Annapolis'), ('Tallahassee', 'Boston'), ('Tallahassee', 'Lansing'), ('Tallahassee', 'Saint Paul'), ('Tallahassee', 'Jackson'), ('Tallahassee', 'Jefferson City'), ('Tallahassee', 'Helana'), ('Tallahassee', 'Lincoln'), ('Tallahassee', 'Carson City'), ('Tallahassee', 'Concord'), ('Tallahassee', 'Trenton'), ('Tallahassee', 'Santa Fe'), ('Tallahassee', 'Albany'), ('Tallahassee', 'Raleigh'), ('Tallahassee', 'Bismarck'), ('Tallahassee', 'Columbus'), ('Tallahassee', 'Oklahoma City'), ('Tallahassee', 'Salem'), ('Tallahassee', 'Harrisburg'), ('Tallahassee', 'Providence'), ('Tallahassee', 'Columbia'), ('Tallahassee', 'Pierre'), ('Tallahassee', 'Nashville'), ('Tallahassee', 'Austin'), ('Tallahassee', 'Salt Lake City'), ('Tallahassee', 'Montpelier'), ('Tallahassee', 'Richmond'), ('Tallahassee', 'Olympia'), ('Tallahassee', 'Charleston'), ('Tallahassee', 'Madison'), ('Tallahassee', 'Cheyenne'), ('Atlanta', 'Boise'), ('Atlanta', 'Springfield'), ('Atlanta', 'Indianapolis'), ('Atlanta', 'Des Moines'), ('Atlanta', 'Topeka'), ('Atlanta', 'Frankfort'), ('Atlanta', 'Baton Rouge'), ('Atlanta', 'Augusta'), ('Atlanta', 'Annapolis'), ('Atlanta', 'Boston'), ('Atlanta', 'Lansing'), ('Atlanta', 'Saint Paul'), ('Atlanta', 'Jackson'), ('Atlanta', 'Jefferson City'), ('Atlanta', 'Helana'), ('Atlanta', 'Lincoln'), ('Atlanta', 'Carson City'), ('Atlanta', 'Concord'), ('Atlanta', 'Trenton'), ('Atlanta', 'Santa Fe'), ('Atlanta', 'Albany'), ('Atlanta', 'Raleigh'), ('Atlanta', 'Bismarck'), ('Atlanta', 'Columbus'), ('Atlanta', 'Oklahoma City'), ('Atlanta', 'Salem'), ('Atlanta', 'Harrisburg'), ('Atlanta', 'Providence'), ('Atlanta', 'Columbia'), ('Atlanta', 'Pierre'), ('Atlanta', 'Nashville'), ('Atlanta', 'Austin'), ('Atlanta', 'Salt Lake City'), ('Atlanta', 'Montpelier'), ('Atlanta', 'Richmond'), ('Atlanta', 'Olympia'), ('Atlanta', 'Charleston'), ('Atlanta', 'Madison'), ('Atlanta', 'Cheyenne'), ('Boise', 'Springfield'), ('Boise', 'Indianapolis'), ('Boise', 'Des Moines'), ('Boise', 'Topeka'), ('Boise', 'Frankfort'), ('Boise', 'Baton Rouge'), ('Boise', 'Augusta'), ('Boise', 'Annapolis'), ('Boise', 'Boston'), ('Boise', 'Lansing'), ('Boise', 'Saint Paul'), ('Boise', 'Jackson'), ('Boise', 'Jefferson City'), ('Boise', 'Helana'), ('Boise', 'Lincoln'), ('Boise', 'Carson City'), ('Boise', 'Concord'), ('Boise', 'Trenton'), ('Boise', 'Santa Fe'), ('Boise', 'Albany'), ('Boise', 'Raleigh'), ('Boise', 'Bismarck'), ('Boise', 'Columbus'), ('Boise', 'Oklahoma City'), ('Boise', 'Salem'), ('Boise', 'Harrisburg'), ('Boise', 'Providence'), ('Boise', 'Columbia'), ('Boise', 'Pierre'), ('Boise', 'Nashville'), ('Boise', 'Austin'), ('Boise', 'Salt Lake City'), ('Boise', 'Montpelier'), ('Boise', 'Richmond'), ('Boise', 'Olympia'), ('Boise', 'Charleston'), ('Boise', 'Madison'), ('Boise', 'Cheyenne'), ('Springfield', 'Indianapolis'), ('Springfield', 'Des Moines'), ('Springfield', 'Topeka'), ('Springfield', 'Frankfort'), ('Springfield', 'Baton Rouge'), ('Springfield', 'Augusta'), ('Springfield', 'Annapolis'), ('Springfield', 'Boston'), ('Springfield', 'Lansing'), ('Springfield', 'Saint Paul'), ('Springfield', 'Jackson'), ('Springfield', 'Jefferson City'), ('Springfield', 'Helana'), ('Springfield', 'Lincoln'), ('Springfield', 'Carson City'), ('Springfield', 'Concord'), ('Springfield', 'Trenton'), ('Springfield', 'Santa Fe'), ('Springfield', 'Albany'), ('Springfield', 'Raleigh'), ('Springfield', 'Bismarck'), ('Springfield', 'Columbus'), ('Springfield', 'Oklahoma City'), ('Springfield', 'Salem'), ('Springfield', 'Harrisburg'), ('Springfield', 'Providence'), ('Springfield', 'Columbia'), ('Springfield', 'Pierre'), ('Springfield', 'Nashville'), ('Springfield', 'Austin'), ('Springfield', 'Salt Lake City'), ('Springfield', 'Montpelier'), ('Springfield', 'Richmond'), ('Springfield', 'Olympia'), ('Springfield', 'Charleston'), ('Springfield', 'Madison'), ('Springfield', 'Cheyenne'), ('Indianapolis', 'Des Moines'), ('Indianapolis', 'Topeka'), ('Indianapolis', 'Frankfort'), ('Indianapolis', 'Baton Rouge'), ('Indianapolis', 'Augusta'), ('Indianapolis', 'Annapolis'), ('Indianapolis', 'Boston'), ('Indianapolis', 'Lansing'), ('Indianapolis', 'Saint Paul'), ('Indianapolis', 'Jackson'), ('Indianapolis', 'Jefferson City'), ('Indianapolis', 'Helana'), ('Indianapolis', 'Lincoln'), ('Indianapolis', 'Carson City'), ('Indianapolis', 'Concord'), ('Indianapolis', 'Trenton'), ('Indianapolis', 'Santa Fe'), ('Indianapolis', 'Albany'), ('Indianapolis', 'Raleigh'), ('Indianapolis', 'Bismarck'), ('Indianapolis', 'Columbus'), ('Indianapolis', 'Oklahoma City'), ('Indianapolis', 'Salem'), ('Indianapolis', 'Harrisburg'), ('Indianapolis', 'Providence'), ('Indianapolis', 'Columbia'), ('Indianapolis', 'Pierre'), ('Indianapolis', 'Nashville'), ('Indianapolis', 'Austin'), ('Indianapolis', 'Salt Lake City'), ('Indianapolis', 'Montpelier'), ('Indianapolis', 'Richmond'), ('Indianapolis', 'Olympia'), ('Indianapolis', 'Charleston'), ('Indianapolis', 'Madison'), ('Indianapolis', 'Cheyenne'), ('Des Moines', 'Topeka'), ('Des Moines', 'Frankfort'), ('Des Moines', 'Baton Rouge'), ('Des Moines', 'Augusta'), ('Des Moines', 'Annapolis'), ('Des Moines', 'Boston'), ('Des Moines', 'Lansing'), ('Des Moines', 'Saint Paul'), ('Des Moines', 'Jackson'), ('Des Moines', 'Jefferson City'), ('Des Moines', 'Helana'), ('Des Moines', 'Lincoln'), ('Des Moines', 'Carson City'), ('Des Moines', 'Concord'), ('Des Moines', 'Trenton'), ('Des Moines', 'Santa Fe'), ('Des Moines', 'Albany'), ('Des Moines', 'Raleigh'), ('Des Moines', 'Bismarck'), ('Des Moines', 'Columbus'), ('Des Moines', 'Oklahoma City'), ('Des Moines', 'Salem'), ('Des Moines', 'Harrisburg'), ('Des Moines', 'Providence'), ('Des Moines', 'Columbia'), ('Des Moines', 'Pierre'), ('Des Moines', 'Nashville'), ('Des Moines', 'Austin'), ('Des Moines', 'Salt Lake City'), ('Des Moines', 'Montpelier'), ('Des Moines', 'Richmond'), ('Des Moines', 'Olympia'), ('Des Moines', 'Charleston'), ('Des Moines', 'Madison'), ('Des Moines', 'Cheyenne'), ('Topeka', 'Frankfort'), ('Topeka', 'Baton Rouge'), ('Topeka', 'Augusta'), ('Topeka', 'Annapolis'), ('Topeka', 'Boston'), ('Topeka', 'Lansing'), ('Topeka', 'Saint Paul'), ('Topeka', 'Jackson'), ('Topeka', 'Jefferson City'), ('Topeka', 'Helana'), ('Topeka', 'Lincoln'), ('Topeka', 'Carson City'), ('Topeka', 'Concord'), ('Topeka', 'Trenton'), ('Topeka', 'Santa Fe'), ('Topeka', 'Albany'), ('Topeka', 'Raleigh'), ('Topeka', 'Bismarck'), ('Topeka', 'Columbus'), ('Topeka', 'Oklahoma City'), ('Topeka', 'Salem'), ('Topeka', 'Harrisburg'), ('Topeka', 'Providence'), ('Topeka', 'Columbia'), ('Topeka', 'Pierre'), ('Topeka', 'Nashville'), ('Topeka', 'Austin'), ('Topeka', 'Salt Lake City'), ('Topeka', 'Montpelier'), ('Topeka', 'Richmond'), ('Topeka', 'Olympia'), ('Topeka', 'Charleston'), ('Topeka', 'Madison'), ('Topeka', 'Cheyenne'), ('Frankfort', 'Baton Rouge'), ('Frankfort', 'Augusta'), ('Frankfort', 'Annapolis'), ('Frankfort', 'Boston'), ('Frankfort', 'Lansing'), ('Frankfort', 'Saint Paul'), ('Frankfort', 'Jackson'), ('Frankfort', 'Jefferson City'), ('Frankfort', 'Helana'), ('Frankfort', 'Lincoln'), ('Frankfort', 'Carson City'), ('Frankfort', 'Concord'), ('Frankfort', 'Trenton'), ('Frankfort', 'Santa Fe'), ('Frankfort', 'Albany'), ('Frankfort', 'Raleigh'), ('Frankfort', 'Bismarck'), ('Frankfort', 'Columbus'), ('Frankfort', 'Oklahoma City'), ('Frankfort', 'Salem'), ('Frankfort', 'Harrisburg'), ('Frankfort', 'Providence'), ('Frankfort', 'Columbia'), ('Frankfort', 'Pierre'), ('Frankfort', 'Nashville'), ('Frankfort', 'Austin'), ('Frankfort', 'Salt Lake City'), ('Frankfort', 'Montpelier'), ('Frankfort', 'Richmond'), ('Frankfort', 'Olympia'), ('Frankfort', 'Charleston'), ('Frankfort', 'Madison'), ('Frankfort', 'Cheyenne'), ('Baton Rouge', 'Augusta'), ('Baton Rouge', 'Annapolis'), ('Baton Rouge', 'Boston'), ('Baton Rouge', 'Lansing'), ('Baton Rouge', 'Saint Paul'), ('Baton Rouge', 'Jackson'), ('Baton Rouge', 'Jefferson City'), ('Baton Rouge', 'Helana'), ('Baton Rouge', 'Lincoln'), ('Baton Rouge', 'Carson City'), ('Baton Rouge', 'Concord'), ('Baton Rouge', 'Trenton'), ('Baton Rouge', 'Santa Fe'), ('Baton Rouge', 'Albany'), ('Baton Rouge', 'Raleigh'), ('Baton Rouge', 'Bismarck'), ('Baton Rouge', 'Columbus'), ('Baton Rouge', 'Oklahoma City'), ('Baton Rouge', 'Salem'), ('Baton Rouge', 'Harrisburg'), ('Baton Rouge', 'Providence'), ('Baton Rouge', 'Columbia'), ('Baton Rouge', 'Pierre'), ('Baton Rouge', 'Nashville'), ('Baton Rouge', 'Austin'), ('Baton Rouge', 'Salt Lake City'), ('Baton Rouge', 'Montpelier'), ('Baton Rouge', 'Richmond'), ('Baton Rouge', 'Olympia'), ('Baton Rouge', 'Charleston'), ('Baton Rouge', 'Madison'), ('Baton Rouge', 'Cheyenne'), ('Augusta', 'Annapolis'), ('Augusta', 'Boston'), ('Augusta', 'Lansing'), ('Augusta', 'Saint Paul'), ('Augusta', 'Jackson'), ('Augusta', 'Jefferson City'), ('Augusta', 'Helana'), ('Augusta', 'Lincoln'), ('Augusta', 'Carson City'), ('Augusta', 'Concord'), ('Augusta', 'Trenton'), ('Augusta', 'Santa Fe'), ('Augusta', 'Albany'), ('Augusta', 'Raleigh'), ('Augusta', 'Bismarck'), ('Augusta', 'Columbus'), ('Augusta', 'Oklahoma City'), ('Augusta', 'Salem'), ('Augusta', 'Harrisburg'), ('Augusta', 'Providence'), ('Augusta', 'Columbia'), ('Augusta', 'Pierre'), ('Augusta', 'Nashville'), ('Augusta', 'Austin'), ('Augusta', 'Salt Lake City'), ('Augusta', 'Montpelier'), ('Augusta', 'Richmond'), ('Augusta', 'Olympia'), ('Augusta', 'Charleston'), ('Augusta', 'Madison'), ('Augusta', 'Cheyenne'), ('Annapolis', 'Boston'), ('Annapolis', 'Lansing'), ('Annapolis', 'Saint Paul'), ('Annapolis', 'Jackson'), ('Annapolis', 'Jefferson City'), ('Annapolis', 'Helana'), ('Annapolis', 'Lincoln'), ('Annapolis', 'Carson City'), ('Annapolis', 'Concord'), ('Annapolis', 'Trenton'), ('Annapolis', 'Santa Fe'), ('Annapolis', 'Albany'), ('Annapolis', 'Raleigh'), ('Annapolis', 'Bismarck'), ('Annapolis', 'Columbus'), ('Annapolis', 'Oklahoma City'), ('Annapolis', 'Salem'), ('Annapolis', 'Harrisburg'), ('Annapolis', 'Providence'), ('Annapolis', 'Columbia'), ('Annapolis', 'Pierre'), ('Annapolis', 'Nashville'), ('Annapolis', 'Austin'), ('Annapolis', 'Salt Lake City'), ('Annapolis', 'Montpelier'), ('Annapolis', 'Richmond'), ('Annapolis', 'Olympia'), ('Annapolis', 'Charleston'), ('Annapolis', 'Madison'), ('Annapolis', 'Cheyenne'), ('Boston', 'Lansing'), ('Boston', 'Saint Paul'), ('Boston', 'Jackson'), ('Boston', 'Jefferson City'), ('Boston', 'Helana'), ('Boston', 'Lincoln'), ('Boston', 'Carson City'), ('Boston', 'Concord'), ('Boston', 'Trenton'), ('Boston', 'Santa Fe'), ('Boston', 'Albany'), ('Boston', 'Raleigh'), ('Boston', 'Bismarck'), ('Boston', 'Columbus'), ('Boston', 'Oklahoma City'), ('Boston', 'Salem'), ('Boston', 'Harrisburg'), ('Boston', 'Providence'), ('Boston', 'Columbia'), ('Boston', 'Pierre'), ('Boston', 'Nashville'), ('Boston', 'Austin'), ('Boston', 'Salt Lake City'), ('Boston', 'Montpelier'), ('Boston', 'Richmond'), ('Boston', 'Olympia'), ('Boston', 'Charleston'), ('Boston', 'Madison'), ('Boston', 'Cheyenne'), ('Lansing', 'Saint Paul'), ('Lansing', 'Jackson'), ('Lansing', 'Jefferson City'), ('Lansing', 'Helana'), ('Lansing', 'Lincoln'), ('Lansing', 'Carson City'), ('Lansing', 'Concord'), ('Lansing', 'Trenton'), ('Lansing', 'Santa Fe'), ('Lansing', 'Albany'), ('Lansing', 'Raleigh'), ('Lansing', 'Bismarck'), ('Lansing', 'Columbus'), ('Lansing', 'Oklahoma City'), ('Lansing', 'Salem'), ('Lansing', 'Harrisburg'), ('Lansing', 'Providence'), ('Lansing', 'Columbia'), ('Lansing', 'Pierre'), ('Lansing', 'Nashville'), ('Lansing', 'Austin'), ('Lansing', 'Salt Lake City'), ('Lansing', 'Montpelier'), ('Lansing', 'Richmond'), ('Lansing', 'Olympia'), ('Lansing', 'Charleston'), ('Lansing', 'Madison'), ('Lansing', 'Cheyenne'), ('Saint Paul', 'Jackson'), ('Saint Paul', 'Jefferson City'), ('Saint Paul', 'Helana'), ('Saint Paul', 'Lincoln'), ('Saint Paul', 'Carson City'), ('Saint Paul', 'Concord'), ('Saint Paul', 'Trenton'), ('Saint Paul', 'Santa Fe'), ('Saint Paul', 'Albany'), ('Saint Paul', 'Raleigh'), ('Saint Paul', 'Bismarck'), ('Saint Paul', 'Columbus'), ('Saint Paul', 'Oklahoma City'), ('Saint Paul', 'Salem'), ('Saint Paul', 'Harrisburg'), ('Saint Paul', 'Providence'), ('Saint Paul', 'Columbia'), ('Saint Paul', 'Pierre'), ('Saint Paul', 'Nashville'), ('Saint Paul', 'Austin'), ('Saint Paul', 'Salt Lake City'), ('Saint Paul', 'Montpelier'), ('Saint Paul', 'Richmond'), ('Saint Paul', 'Olympia'), ('Saint Paul', 'Charleston'), ('Saint Paul', 'Madison'), ('Saint Paul', 'Cheyenne'), ('Jackson', 'Jefferson City'), ('Jackson', 'Helana'), ('Jackson', 'Lincoln'), ('Jackson', 'Carson City'), ('Jackson', 'Concord'), ('Jackson', 'Trenton'), ('Jackson', 'Santa Fe'), ('Jackson', 'Albany'), ('Jackson', 'Raleigh'), ('Jackson', 'Bismarck'), ('Jackson', 'Columbus'), ('Jackson', 'Oklahoma City'), ('Jackson', 'Salem'), ('Jackson', 'Harrisburg'), ('Jackson', 'Providence'), ('Jackson', 'Columbia'), ('Jackson', 'Pierre'), ('Jackson', 'Nashville'), ('Jackson', 'Austin'), ('Jackson', 'Salt Lake City'), ('Jackson', 'Montpelier'), ('Jackson', 'Richmond'), ('Jackson', 'Olympia'), ('Jackson', 'Charleston'), ('Jackson', 'Madison'), ('Jackson', 'Cheyenne'), ('Jefferson City', 'Helana'), ('Jefferson City', 'Lincoln'), ('Jefferson City', 'Carson City'), ('Jefferson City', 'Concord'), ('Jefferson City', 'Trenton'), ('Jefferson City', 'Santa Fe'), ('Jefferson City', 'Albany'), ('Jefferson City', 'Raleigh'), ('Jefferson City', 'Bismarck'), ('Jefferson City', 'Columbus'), ('Jefferson City', 'Oklahoma City'), ('Jefferson City', 'Salem'), ('Jefferson City', 'Harrisburg'), ('Jefferson City', 'Providence'), ('Jefferson City', 'Columbia'), ('Jefferson City', 'Pierre'), ('Jefferson City', 'Nashville'), ('Jefferson City', 'Austin'), ('Jefferson City', 'Salt Lake City'), ('Jefferson City', 'Montpelier'), ('Jefferson City', 'Richmond'), ('Jefferson City', 'Olympia'), ('Jefferson City', 'Charleston'), ('Jefferson City', 'Madison'), ('Jefferson City', 'Cheyenne'), ('Helana', 'Lincoln'), ('Helana', 'Carson City'), ('Helana', 'Concord'), ('Helana', 'Trenton'), ('Helana', 'Santa Fe'), ('Helana', 'Albany'), ('Helana', 'Raleigh'), ('Helana', 'Bismarck'), ('Helana', 'Columbus'), ('Helana', 'Oklahoma City'), ('Helana', 'Salem'), ('Helana', 'Harrisburg'), ('Helana', 'Providence'), ('Helana', 'Columbia'), ('Helana', 'Pierre'), ('Helana', 'Nashville'), ('Helana', 'Austin'), ('Helana', 'Salt Lake City'), ('Helana', 'Montpelier'), ('Helana', 'Richmond'), ('Helana', 'Olympia'), ('Helana', 'Charleston'), ('Helana', 'Madison'), ('Helana', 'Cheyenne'), ('Lincoln', 'Carson City'), ('Lincoln', 'Concord'), ('Lincoln', 'Trenton'), ('Lincoln', 'Santa Fe'), ('Lincoln', 'Albany'), ('Lincoln', 'Raleigh'), ('Lincoln', 'Bismarck'), ('Lincoln', 'Columbus'), ('Lincoln', 'Oklahoma City'), ('Lincoln', 'Salem'), ('Lincoln', 'Harrisburg'), ('Lincoln', 'Providence'), ('Lincoln', 'Columbia'), ('Lincoln', 'Pierre'), ('Lincoln', 'Nashville'), ('Lincoln', 'Austin'), ('Lincoln', 'Salt Lake City'), ('Lincoln', 'Montpelier'), ('Lincoln', 'Richmond'), ('Lincoln', 'Olympia'), ('Lincoln', 'Charleston'), ('Lincoln', 'Madison'), ('Lincoln', 'Cheyenne'), ('Carson City', 'Concord'), ('Carson City', 'Trenton'), ('Carson City', 'Santa Fe'), ('Carson City', 'Albany'), ('Carson City', 'Raleigh'), ('Carson City', 'Bismarck'), ('Carson City', 'Columbus'), ('Carson City', 'Oklahoma City'), ('Carson City', 'Salem'), ('Carson City', 'Harrisburg'), ('Carson City', 'Providence'), ('Carson City', 'Columbia'), ('Carson City', 'Pierre'), ('Carson City', 'Nashville'), ('Carson City', 'Austin'), ('Carson City', 'Salt Lake City'), ('Carson City', 'Montpelier'), ('Carson City', 'Richmond'), ('Carson City', 'Olympia'), ('Carson City', 'Charleston'), ('Carson City', 'Madison'), ('Carson City', 'Cheyenne'), ('Concord', 'Trenton'), ('Concord', 'Santa Fe'), ('Concord', 'Albany'), ('Concord', 'Raleigh'), ('Concord', 'Bismarck'), ('Concord', 'Columbus'), ('Concord', 'Oklahoma City'), ('Concord', 'Salem'), ('Concord', 'Harrisburg'), ('Concord', 'Providence'), ('Concord', 'Columbia'), ('Concord', 'Pierre'), ('Concord', 'Nashville'), ('Concord', 'Austin'), ('Concord', 'Salt Lake City'), ('Concord', 'Montpelier'), ('Concord', 'Richmond'), ('Concord', 'Olympia'), ('Concord', 'Charleston'), ('Concord', 'Madison'), ('Concord', 'Cheyenne'), ('Trenton', 'Santa Fe'), ('Trenton', 'Albany'), ('Trenton', 'Raleigh'), ('Trenton', 'Bismarck'), ('Trenton', 'Columbus'), ('Trenton', 'Oklahoma City'), ('Trenton', 'Salem'), ('Trenton', 'Harrisburg'), ('Trenton', 'Providence'), ('Trenton', 'Columbia'), ('Trenton', 'Pierre'), ('Trenton', 'Nashville'), ('Trenton', 'Austin'), ('Trenton', 'Salt Lake City'), ('Trenton', 'Montpelier'), ('Trenton', 'Richmond'), ('Trenton', 'Olympia'), ('Trenton', 'Charleston'), ('Trenton', 'Madison'), ('Trenton', 'Cheyenne'), ('Santa Fe', 'Albany'), ('Santa Fe', 'Raleigh'), ('Santa Fe', 'Bismarck'), ('Santa Fe', 'Columbus'), ('Santa Fe', 'Oklahoma City'), ('Santa Fe', 'Salem'), ('Santa Fe', 'Harrisburg'), ('Santa Fe', 'Providence'), ('Santa Fe', 'Columbia'), ('Santa Fe', 'Pierre'), ('Santa Fe', 'Nashville'), ('Santa Fe', 'Austin'), ('Santa Fe', 'Salt Lake City'), ('Santa Fe', 'Montpelier'), ('Santa Fe', 'Richmond'), ('Santa Fe', 'Olympia'), ('Santa Fe', 'Charleston'), ('Santa Fe', 'Madison'), ('Santa Fe', 'Cheyenne'), ('Albany', 'Raleigh'), ('Albany', 'Bismarck'), ('Albany', 'Columbus'), ('Albany', 'Oklahoma City'), ('Albany', 'Salem'), ('Albany', 'Harrisburg'), ('Albany', 'Providence'), ('Albany', 'Columbia'), ('Albany', 'Pierre'), ('Albany', 'Nashville'), ('Albany', 'Austin'), ('Albany', 'Salt Lake City'), ('Albany', 'Montpelier'), ('Albany', 'Richmond'), ('Albany', 'Olympia'), ('Albany', 'Charleston'), ('Albany', 'Madison'), ('Albany', 'Cheyenne'), ('Raleigh', 'Bismarck'), ('Raleigh', 'Columbus'), ('Raleigh', 'Oklahoma City'), ('Raleigh', 'Salem'), ('Raleigh', 'Harrisburg'), ('Raleigh', 'Providence'), ('Raleigh', 'Columbia'), ('Raleigh', 'Pierre'), ('Raleigh', 'Nashville'), ('Raleigh', 'Austin'), ('Raleigh', 'Salt Lake City'), ('Raleigh', 'Montpelier'), ('Raleigh', 'Richmond'), ('Raleigh', 'Olympia'), ('Raleigh', 'Charleston'), ('Raleigh', 'Madison'), ('Raleigh', 'Cheyenne'), ('Bismarck', 'Columbus'), ('Bismarck', 'Oklahoma City'), ('Bismarck', 'Salem'), ('Bismarck', 'Harrisburg'), ('Bismarck', 'Providence'), ('Bismarck', 'Columbia'), ('Bismarck', 'Pierre'), ('Bismarck', 'Nashville'), ('Bismarck', 'Austin'), ('Bismarck', 'Salt Lake City'), ('Bismarck', 'Montpelier'), ('Bismarck', 'Richmond'), ('Bismarck', 'Olympia'), ('Bismarck', 'Charleston'), ('Bismarck', 'Madison'), ('Bismarck', 'Cheyenne'), ('Columbus', 'Oklahoma City'), ('Columbus', 'Salem'), ('Columbus', 'Harrisburg'), ('Columbus', 'Providence'), ('Columbus', 'Columbia'), ('Columbus', 'Pierre'), ('Columbus', 'Nashville'), ('Columbus', 'Austin'), ('Columbus', 'Salt Lake City'), ('Columbus', 'Montpelier'), ('Columbus', 'Richmond'), ('Columbus', 'Olympia'), ('Columbus', 'Charleston'), ('Columbus', 'Madison'), ('Columbus', 'Cheyenne'), ('Oklahoma City', 'Salem'), ('Oklahoma City', 'Harrisburg'), ('Oklahoma City', 'Providence'), ('Oklahoma City', 'Columbia'), ('Oklahoma City', 'Pierre'), ('Oklahoma City', 'Nashville'), ('Oklahoma City', 'Austin'), ('Oklahoma City', 'Salt Lake City'), ('Oklahoma City', 'Montpelier'), ('Oklahoma City', 'Richmond'), ('Oklahoma City', 'Olympia'), ('Oklahoma City', 'Charleston'), ('Oklahoma City', 'Madison'), ('Oklahoma City', 'Cheyenne'), ('Salem', 'Harrisburg'), ('Salem', 'Providence'), ('Salem', 'Columbia'), ('Salem', 'Pierre'), ('Salem', 'Nashville'), ('Salem', 'Austin'), ('Salem', 'Salt Lake City'), ('Salem', 'Montpelier'), ('Salem', 'Richmond'), ('Salem', 'Olympia'), ('Salem', 'Charleston'), ('Salem', 'Madison'), ('Salem', 'Cheyenne'), ('Harrisburg', 'Providence'), ('Harrisburg', 'Columbia'), ('Harrisburg', 'Pierre'), ('Harrisburg', 'Nashville'), ('Harrisburg', 'Austin'), ('Harrisburg', 'Salt Lake City'), ('Harrisburg', 'Montpelier'), ('Harrisburg', 'Richmond'), ('Harrisburg', 'Olympia'), ('Harrisburg', 'Charleston'), ('Harrisburg', 'Madison'), ('Harrisburg', 'Cheyenne'), ('Providence', 'Columbia'), ('Providence', 'Pierre'), ('Providence', 'Nashville'), ('Providence', 'Austin'), ('Providence', 'Salt Lake City'), ('Providence', 'Montpelier'), ('Providence', 'Richmond'), ('Providence', 'Olympia'), ('Providence', 'Charleston'), ('Providence', 'Madison'), ('Providence', 'Cheyenne'), ('Columbia', 'Pierre'), ('Columbia', 'Nashville'), ('Columbia', 'Austin'), ('Columbia', 'Salt Lake City'), ('Columbia', 'Montpelier'), ('Columbia', 'Richmond'), ('Columbia', 'Olympia'), ('Columbia', 'Charleston'), ('Columbia', 'Madison'), ('Columbia', 'Cheyenne'), ('Pierre', 'Nashville'), ('Pierre', 'Austin'), ('Pierre', 'Salt Lake City'), ('Pierre', 'Montpelier'), ('Pierre', 'Richmond'), ('Pierre', 'Olympia'), ('Pierre', 'Charleston'), ('Pierre', 'Madison'), ('Pierre', 'Cheyenne'), ('Nashville', 'Austin'), ('Nashville', 'Salt Lake City'), ('Nashville', 'Montpelier'), ('Nashville', 'Richmond'), ('Nashville', 'Olympia'), ('Nashville', 'Charleston'), ('Nashville', 'Madison'), ('Nashville', 'Cheyenne'), ('Austin', 'Salt Lake City'), ('Austin', 'Montpelier'), ('Austin', 'Richmond'), ('Austin', 'Olympia'), ('Austin', 'Charleston'), ('Austin', 'Madison'), ('Austin', 'Cheyenne'), ('Salt Lake City', 'Montpelier'), ('Salt Lake City', 'Richmond'), ('Salt Lake City', 'Olympia'), ('Salt Lake City', 'Charleston'), ('Salt Lake City', 'Madison'), ('Salt Lake City', 'Cheyenne'), ('Montpelier', 'Richmond'), ('Montpelier', 'Olympia'), ('Montpelier', 'Charleston'), ('Montpelier', 'Madison'), ('Montpelier', 'Cheyenne'), ('Richmond', 'Olympia'), ('Richmond', 'Charleston'), ('Richmond', 'Madison'), ('Richmond', 'Cheyenne'), ('Olympia', 'Charleston'), ('Olympia', 'Madison'), ('Olympia', 'Cheyenne'), ('Charleston', 'Madison'), ('Charleston', 'Cheyenne'), ('Madison', 'Cheyenne')])"
            ]
          },
          "execution_count": 7,
          "metadata": {},
          "output_type": "execute_result"
        }
      ],
      "source": [
        "dist.keys()"
      ]
    },
    {
      "cell_type": "markdown",
      "metadata": {
        "id": "r4dfiASYQGJv"
      },
      "source": [
        "### Model Code\n",
        "We now write the model for the TSP, by defining decision variables, constraints, and objective function. Because this is the _symmetric_ traveling salesman problem, we can make it more efficient by setting the _object_ x[j,i] to x[i,j], instead of a constraint."
      ]
    },
    {
      "cell_type": "code",
      "execution_count": null,
      "metadata": {},
      "outputs": [],
      "source": []
    },
    {
      "cell_type": "code",
      "execution_count": 3,
      "metadata": {
        "id": "ZGTlxg_1QGJv"
      },
      "outputs": [
        {
          "name": "stdout",
          "output_type": "stream",
          "text": [
            "Restricted license - for non-production use only - expires 2024-10-28\n"
          ]
        }
      ],
      "source": [
        "import gurobipy as gp\n",
        "from gurobipy import GRB\n",
        "\n",
        "# tested with Python 3.7 & Gurobi 9.0.0\n",
        "\n",
        "m = gp.Model()\n",
        "\n",
        "# Variables: is city 'i' adjacent to city 'j' on the tour?\n",
        "vars = m.addVars(dist.keys(), obj=dist, vtype=GRB.BINARY, name='x')\n",
        "\n",
        "# Symmetric direction: Copy the object\n",
        "for i, j in vars.keys():\n",
        "    vars[j, i] = vars[i, j]  # edge in opposite direction\n",
        "\n",
        "# Constraints: two edges incident to each city\n",
        "cons = m.addConstrs(vars.sum(c, '*') == 2 for c in capitals)"
      ]
    },
    {
      "cell_type": "markdown",
      "metadata": {
        "id": "tOTu1xqqQGJv"
      },
      "source": [
        "### Callback Definition\n",
        "Subtour constraints prevent multiple loops in a TSP tour. Because there are an exponential number of these constraints, we don't want to add them all to the model. Instead, we use a callback function to find violated subtour constraints and add them to the model as lazy constraints."
      ]
    },
    {
      "cell_type": "code",
      "execution_count": 5,
      "metadata": {
        "id": "0cvVEH-NQGJv"
      },
      "outputs": [],
      "source": [
        "# Callback - use lazy constraints to eliminate sub-tours\n",
        "\n",
        "def subtourelim(model, where):\n",
        "    if where == GRB.Callback.MIPSOL:\n",
        "        # make a list of edges selected in the solution\n",
        "        vals = model.cbGetSolution(model._vars)\n",
        "        selected = gp.tuplelist((i, j) for i, j in model._vars.keys()\n",
        "                             if vals[i, j] > 0.5)\n",
        "        # find the shortest cycle in the selected edge list\n",
        "        tour = subtour(selected)\n",
        "        if len(tour) < len(capitals):\n",
        "            # add subtour elimination constr. for every pair of cities in subtour\n",
        "            model.cbLazy(gp.quicksum(model._vars[i, j] for i, j in combinations(tour, 2))\n",
        "                         <= len(tour)-1)\n",
        "\n",
        "# Given a tuplelist of edges, find the shortest subtour\n",
        "\n",
        "def subtour(edges):\n",
        "    unvisited = capitals[:]\n",
        "    cycle = capitals[:] # Dummy - guaranteed to be replaced\n",
        "    while unvisited:  # true if list is non-empty\n",
        "        thiscycle = []\n",
        "        neighbors = unvisited\n",
        "        while neighbors:\n",
        "            current = neighbors[0]\n",
        "            thiscycle.append(current)\n",
        "            unvisited.remove(current)\n",
        "            neighbors = [j for i, j in edges.select(current, '*')\n",
        "                         if j in unvisited]\n",
        "        if len(thiscycle) <= len(cycle):\n",
        "            cycle = thiscycle # New shortest subtour\n",
        "    return cycle"
      ]
    },
    {
      "cell_type": "markdown",
      "metadata": {
        "id": "v2dfktHgQGJw"
      },
      "source": [
        "## Solve the model"
      ]
    },
    {
      "cell_type": "code",
      "execution_count": 6,
      "metadata": {
        "id": "dF7UwbDCQGJw"
      },
      "outputs": [
        {
          "name": "stdout",
          "output_type": "stream",
          "text": [
            "Set parameter LazyConstraints to value 1\n",
            "Gurobi Optimizer version 10.0.3 build v10.0.3rc0 (win64)\n",
            "\n",
            "CPU model: Intel(R) Core(TM) i7-9750H CPU @ 2.60GHz, instruction set [SSE2|AVX|AVX2]\n",
            "Thread count: 6 physical cores, 12 logical processors, using up to 12 threads\n",
            "\n",
            "Optimize a model with 48 rows, 1128 columns and 2256 nonzeros\n",
            "Model fingerprint: 0x63641a38\n",
            "Variable types: 0 continuous, 1128 integer (1128 binary)\n",
            "Coefficient statistics:\n",
            "  Matrix range     [1e+00, 1e+00]\n",
            "  Objective range  [6e-01, 5e+01]\n",
            "  Bounds range     [1e+00, 1e+00]\n",
            "  RHS range        [2e+00, 2e+00]\n",
            "Presolve time: 0.02s\n",
            "Presolved: 48 rows, 1128 columns, 2256 nonzeros\n",
            "Variable types: 0 continuous, 1128 integer (1128 binary)\n",
            "\n",
            "Root relaxation: objective 1.611858e+02, 72 iterations, 0.01 seconds (0.00 work units)\n",
            "\n",
            "    Nodes    |    Current Node    |     Objective Bounds      |     Work\n",
            " Expl Unexpl |  Obj  Depth IntInf | Incumbent    BestBd   Gap | It/Node Time\n",
            "\n",
            "     0     0  161.18576    0   12          -  161.18576      -     -    0s\n",
            "     0     0  163.11017    0   18          -  163.11017      -     -    0s\n",
            "     0     0  164.15548    0   16          -  164.15548      -     -    0s\n",
            "     0     0  164.98159    0    8          -  164.98159      -     -    0s\n",
            "     0     0  165.13384    0   27          -  165.13384      -     -    0s\n",
            "     0     2  165.30532    0   29          -  165.30532      -     -    0s\n",
            "*  287   160               7     175.4490370  167.46086  4.55%   5.9    0s\n",
            "\n",
            "Cutting planes:\n",
            "  Zero half: 10\n",
            "  Lazy constraints: 37\n",
            "\n",
            "Explored 499 nodes (3924 simplex iterations) in 0.30 seconds (0.06 work units)\n",
            "Thread count was 12 (of 12 available processors)\n",
            "\n",
            "Solution count 1: 175.449 \n",
            "\n",
            "Optimal solution found (tolerance 1.00e-04)\n",
            "Best objective 1.754490370198e+02, best bound 1.754490370198e+02, gap 0.0000%\n",
            "\n",
            "User-callback calls 1250, time in user-callback 0.07 sec\n"
          ]
        }
      ],
      "source": [
        "m._vars = vars\n",
        "m.Params.lazyConstraints = 1\n",
        "m.optimize(subtourelim)"
      ]
    },
    {
      "cell_type": "markdown",
      "metadata": {
        "id": "hqjMJ9HvQGJw"
      },
      "source": [
        "## Analysis\n",
        "\n",
        "We retrieve the optimal solution of the TSP and verify that the optimal route (or tour) goes to all the cities and returns to the origin city."
      ]
    },
    {
      "cell_type": "code",
      "execution_count": 7,
      "metadata": {
        "id": "UijTKMFYQGJw"
      },
      "outputs": [],
      "source": [
        "# Retrieve solution\n",
        "\n",
        "vals = m.getAttr('x', vars)\n",
        "selected = gp.tuplelist((i, j) for i, j in vals.keys() if vals[i, j] > 0.5)\n",
        "\n",
        "tour = subtour(selected)\n",
        "assert len(tour) == len(capitals)"
      ]
    },
    {
      "cell_type": "markdown",
      "metadata": {
        "id": "v2iAIAoVQGJw"
      },
      "source": [
        "The optimal route is displayed in the following map."
      ]
    },
    {
      "cell_type": "code",
      "execution_count": 8,
      "metadata": {
        "id": "hl2TxRo5QGJw"
      },
      "outputs": [
        {
          "data": {
            "text/html": [
              "<div style=\"width:100%;\"><div style=\"position:relative;width:100%;height:0;padding-bottom:60%;\"><span style=\"color:#565656\">Make this Notebook Trusted to load map: File -> Trust Notebook</span><iframe srcdoc=\"&lt;!DOCTYPE html&gt;\n",
              "&lt;html&gt;\n",
              "&lt;head&gt;\n",
              "    \n",
              "    &lt;meta http-equiv=&quot;content-type&quot; content=&quot;text/html; charset=UTF-8&quot; /&gt;\n",
              "    \n",
              "        &lt;script&gt;\n",
              "            L_NO_TOUCH = false;\n",
              "            L_DISABLE_3D = false;\n",
              "        &lt;/script&gt;\n",
              "    \n",
              "    &lt;style&gt;html, body {width: 100%;height: 100%;margin: 0;padding: 0;}&lt;/style&gt;\n",
              "    &lt;style&gt;#map {position:absolute;top:0;bottom:0;right:0;left:0;}&lt;/style&gt;\n",
              "    &lt;script src=&quot;https://cdn.jsdelivr.net/npm/leaflet@1.9.3/dist/leaflet.js&quot;&gt;&lt;/script&gt;\n",
              "    &lt;script src=&quot;https://code.jquery.com/jquery-1.12.4.min.js&quot;&gt;&lt;/script&gt;\n",
              "    &lt;script src=&quot;https://cdn.jsdelivr.net/npm/bootstrap@5.2.2/dist/js/bootstrap.bundle.min.js&quot;&gt;&lt;/script&gt;\n",
              "    &lt;script src=&quot;https://cdnjs.cloudflare.com/ajax/libs/Leaflet.awesome-markers/2.0.2/leaflet.awesome-markers.js&quot;&gt;&lt;/script&gt;\n",
              "    &lt;link rel=&quot;stylesheet&quot; href=&quot;https://cdn.jsdelivr.net/npm/leaflet@1.9.3/dist/leaflet.css&quot;/&gt;\n",
              "    &lt;link rel=&quot;stylesheet&quot; href=&quot;https://cdn.jsdelivr.net/npm/bootstrap@5.2.2/dist/css/bootstrap.min.css&quot;/&gt;\n",
              "    &lt;link rel=&quot;stylesheet&quot; href=&quot;https://netdna.bootstrapcdn.com/bootstrap/3.0.0/css/bootstrap.min.css&quot;/&gt;\n",
              "    &lt;link rel=&quot;stylesheet&quot; href=&quot;https://cdn.jsdelivr.net/npm/@fortawesome/fontawesome-free@6.2.0/css/all.min.css&quot;/&gt;\n",
              "    &lt;link rel=&quot;stylesheet&quot; href=&quot;https://cdnjs.cloudflare.com/ajax/libs/Leaflet.awesome-markers/2.0.2/leaflet.awesome-markers.css&quot;/&gt;\n",
              "    &lt;link rel=&quot;stylesheet&quot; href=&quot;https://cdn.jsdelivr.net/gh/python-visualization/folium/folium/templates/leaflet.awesome.rotate.min.css&quot;/&gt;\n",
              "    \n",
              "            &lt;meta name=&quot;viewport&quot; content=&quot;width=device-width,\n",
              "                initial-scale=1.0, maximum-scale=1.0, user-scalable=no&quot; /&gt;\n",
              "            &lt;style&gt;\n",
              "                #map_67267132f71eb663bf48bcf99d603817 {\n",
              "                    position: relative;\n",
              "                    width: 100.0%;\n",
              "                    height: 100.0%;\n",
              "                    left: 0.0%;\n",
              "                    top: 0.0%;\n",
              "                }\n",
              "                .leaflet-container { font-size: 1rem; }\n",
              "            &lt;/style&gt;\n",
              "        \n",
              "&lt;/head&gt;\n",
              "&lt;body&gt;\n",
              "    \n",
              "    \n",
              "            &lt;div class=&quot;folium-map&quot; id=&quot;map_67267132f71eb663bf48bcf99d603817&quot; &gt;&lt;/div&gt;\n",
              "        \n",
              "&lt;/body&gt;\n",
              "&lt;script&gt;\n",
              "    \n",
              "    \n",
              "            var map_67267132f71eb663bf48bcf99d603817 = L.map(\n",
              "                &quot;map_67267132f71eb663bf48bcf99d603817&quot;,\n",
              "                {\n",
              "                    center: [40.0, -95.0],\n",
              "                    crs: L.CRS.EPSG3857,\n",
              "                    zoom: 4,\n",
              "                    zoomControl: true,\n",
              "                    preferCanvas: false,\n",
              "                }\n",
              "            );\n",
              "\n",
              "            \n",
              "\n",
              "        \n",
              "    \n",
              "            var tile_layer_69d6dfe18ce6899080e9bfcaeed927aa = L.tileLayer(\n",
              "                &quot;https://{s}.tile.openstreetmap.org/{z}/{x}/{y}.png&quot;,\n",
              "                {&quot;attribution&quot;: &quot;Data by \\u0026copy; \\u003ca target=\\&quot;_blank\\&quot; href=\\&quot;http://openstreetmap.org\\&quot;\\u003eOpenStreetMap\\u003c/a\\u003e, under \\u003ca target=\\&quot;_blank\\&quot; href=\\&quot;http://www.openstreetmap.org/copyright\\&quot;\\u003eODbL\\u003c/a\\u003e.&quot;, &quot;detectRetina&quot;: false, &quot;maxNativeZoom&quot;: 18, &quot;maxZoom&quot;: 18, &quot;minZoom&quot;: 0, &quot;noWrap&quot;: false, &quot;opacity&quot;: 1, &quot;subdomains&quot;: &quot;abc&quot;, &quot;tms&quot;: false}\n",
              "            ).addTo(map_67267132f71eb663bf48bcf99d603817);\n",
              "        \n",
              "    \n",
              "            var poly_line_a589ec9c2b136bf56c27c0d3d03099c3 = L.polyline(\n",
              "                [[32.361538, -86.279118], [30.4518, -84.27277], [33.76, -84.39], [34.0, -81.035], [35.771, -78.638], [37.54, -77.46], [38.972945, -76.501157], [39.161921, -75.526755], [40.221741, -74.756138], [41.767, -72.677], [41.82355, -71.422132], [42.2352, -71.0275], [44.323535, -69.765261], [43.220093, -71.549127], [44.26639, -72.57194], [42.659829, -73.781339], [40.269789, -76.875613], [38.349497, -81.633294], [39.962245, -83.000647], [42.7335, -84.5467], [43.074722, -89.384444], [44.95, -93.094], [41.590939, -93.620866], [39.04, -95.69], [40.809868, -96.675345], [44.367966, -100.336378], [46.813343, -100.779004], [41.145548, -104.802042], [39.7391667, -104.984167], [40.7547, -111.892622], [46.595805, -112.027031], [43.613739, -116.237651], [47.042418, -122.893077], [44.931109, -123.029159], [38.555605, -121.468926], [39.160949, -119.753877], [33.448457, -112.073844], [35.667231, -105.964575], [35.482309, -97.534994], [30.266667, -97.75], [30.45809, -91.140229], [32.32, -90.207], [34.736009, -92.331122], [38.572954, -92.189283], [39.78325, -89.650373], [39.790942, -86.147685], [38.197274, -84.86311], [36.165, -86.784], [32.361538, -86.279118]],\n",
              "                {&quot;bubblingMouseEvents&quot;: true, &quot;color&quot;: &quot;#3388ff&quot;, &quot;dashArray&quot;: null, &quot;dashOffset&quot;: null, &quot;fill&quot;: false, &quot;fillColor&quot;: &quot;#3388ff&quot;, &quot;fillOpacity&quot;: 0.2, &quot;fillRule&quot;: &quot;evenodd&quot;, &quot;lineCap&quot;: &quot;round&quot;, &quot;lineJoin&quot;: &quot;round&quot;, &quot;noClip&quot;: false, &quot;opacity&quot;: 1.0, &quot;smoothFactor&quot;: 1.0, &quot;stroke&quot;: true, &quot;weight&quot;: 3}\n",
              "            ).addTo(map_67267132f71eb663bf48bcf99d603817);\n",
              "        \n",
              "&lt;/script&gt;\n",
              "&lt;/html&gt;\" style=\"position:absolute;width:100%;height:100%;left:0;top:0;border:none !important;\" allowfullscreen webkitallowfullscreen mozallowfullscreen></iframe></div></div>"
            ],
            "text/plain": [
              "<folium.folium.Map at 0x27a6adc9750>"
            ]
          },
          "execution_count": 8,
          "metadata": {},
          "output_type": "execute_result"
        }
      ],
      "source": [
        "# Map the solution\n",
        "\n",
        "import folium\n",
        "\n",
        "map = folium.Map(location=[40,-95], zoom_start = 4)\n",
        "\n",
        "points = []\n",
        "for city in tour:\n",
        "  points.append(coordinates[city])\n",
        "points.append(points[0])\n",
        "\n",
        "folium.PolyLine(points).add_to(map)\n",
        "\n",
        "map"
      ]
    },
    {
      "cell_type": "code",
      "execution_count": null,
      "metadata": {
        "id": "hbLW1AJKQGJw"
      },
      "outputs": [],
      "source": [
        "m.dispose()\n",
        "gp.disposeDefaultEnv()"
      ]
    },
    {
      "cell_type": "markdown",
      "metadata": {
        "id": "ny5LbKfkQGJx"
      },
      "source": [
        "## Conclusions\n",
        "\n",
        "The Traveling Salesman Problem (TSP) is the most popular combinatorial optimization problem. This problem is very easy to explain, although it is very complicated to solve. The largest TSP problem solved has 85,900 cities. The TSP is a source of discovery for new approaches to solve complex combinatorial optimization problems and has led to many applications.\n",
        "\n",
        "In this modeling example, we have shown how to formulate the symmetric Traveling Salesman Problem as a MIP problem. We also showed how to dynamically eliminate subtours by using lazy constraints."
      ]
    },
    {
      "cell_type": "markdown",
      "metadata": {
        "id": "0h3XcaymQGJx"
      },
      "source": [
        "## References\n",
        "\n",
        "[1] D. L. Applegate, R. E. Bixby, V. Chvatal and W. J. Cook , The Traveling Salesman Problem: A Computational Study, Princeton University Press, Princeton, 2006.\n",
        "\n",
        "[2] http://www.math.uwaterloo.ca/tsp/index.html\n",
        "\n",
        "[3] https://www.youtube.com/watch?v=q8nQTNvCrjE&t=35s\n",
        "\n",
        "[4] http://www.math.uwaterloo.ca/tsp/concorde.html"
      ]
    },
    {
      "cell_type": "markdown",
      "metadata": {
        "id": "wiAC_1HNQGJx"
      },
      "source": [
        "Copyright © 2020 Gurobi Optimization, LLC"
      ]
    }
  ],
  "metadata": {
    "colab": {
      "provenance": []
    },
    "kernelspec": {
      "display_name": "Python 3 (ipykernel)",
      "language": "python",
      "name": "python3"
    },
    "language_info": {
      "codemirror_mode": {
        "name": "ipython",
        "version": 3
      },
      "file_extension": ".py",
      "mimetype": "text/x-python",
      "name": "python",
      "nbconvert_exporter": "python",
      "pygments_lexer": "ipython3",
      "version": "3.11.0"
    }
  },
  "nbformat": 4,
  "nbformat_minor": 0
}
