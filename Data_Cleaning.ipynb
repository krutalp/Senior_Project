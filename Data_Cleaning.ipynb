{
 "cells": [
  {
   "cell_type": "code",
   "execution_count": 1,
   "metadata": {},
   "outputs": [],
   "source": [
    "import numpy as np\n",
    "import pandas as pd\n",
    "import json\n",
    "import requests"
   ]
  },
  {
   "cell_type": "code",
   "execution_count": null,
   "metadata": {},
   "outputs": [],
   "source": [
    "# connect to rest API\n",
    "api_key = '687338e9b15104e289107fe396720033'\n",
    "base_url = 'https://api.aviationstack.com/v1/'  \n",
    "endpoint = 'example_endpoint'  \n",
    "\n",
    "# Create the complete URL with the API key\n",
    "url = f'{base_url}{endpoint}?access_key={api_key}'"
   ]
  },
  {
   "cell_type": "code",
   "execution_count": null,
   "metadata": {},
   "outputs": [],
   "source": [
    "# get API Call response \n",
    "# fetch and store data\n",
    "\n",
    "response = requests.get(url)\n",
    "\n",
    "# Check if the request was successful\n",
    "if response.status_code == 200:\n",
    "    data = response.json()\n",
    "    # Process the data as needed\n",
    "else:\n",
    "    print(f\"Request failed with status code {response.status_code}\")"
   ]
  },
  {
   "cell_type": "code",
   "execution_count": 4,
   "metadata": {},
   "outputs": [
    {
     "name": "stdout",
     "output_type": "stream",
     "text": [
      "Request failed with status code 403\n"
     ]
    }
   ],
   "source": [
    "import requests\n",
    "\n",
    "# Replace 'YOUR_API_KEY' with your actual API key\n",
    "api_key = '687338e9b15104e289107fe396720033'\n",
    "\n",
    "# Specify the base URL and the endpoint for airline routes\n",
    "base_url = 'http://api.aviationstack.com/v1/'\n",
    "endpoint = 'routes'  # Use the 'routes' endpoint for airline routes\n",
    "\n",
    "# Add the 'airline_iata' parameter to filter by a specific airline (e.g., American Airlines)\n",
    "airline_iata = 'AA'  # Replace with the desired airline IATA code\n",
    "\n",
    "# Construct the complete URL with the API key and 'airline_iata' parameter\n",
    "url = f'{base_url}{endpoint}?access_key={api_key}&airline_iata={airline_iata}'\n",
    "\n",
    "# Make the API request\n",
    "response = requests.get(url)\n",
    "\n",
    "# Check if the request was successful\n",
    "if response.status_code == 200:\n",
    "    data = response.json()\n",
    "    # Process the filtered airline route data as needed\n",
    "else:\n",
    "    print(f\"Request failed with status code {response.status_code}\")\n"
   ]
  },
  {
   "cell_type": "code",
   "execution_count": 18,
   "metadata": {},
   "outputs": [],
   "source": [
    "params = {\n",
    "  'access_key': '687338e9b15104e289107fe396720033',\n",
    "  'airline_iata': 'AA'\n",
    "}                \n",
    "\n",
    "api_result = requests.get('http://api.aviationstack.com/v1/routes', params)\n",
    "\n",
    "api_response = api_result.json()"
   ]
  },
  {
   "cell_type": "code",
   "execution_count": 21,
   "metadata": {},
   "outputs": [
    {
     "data": {
      "text/plain": [
       "{'error': {'code': 'function_access_restricted',\n",
       "  'message': 'Your current subscription plan does not support this API function.'}}"
      ]
     },
     "execution_count": 21,
     "metadata": {},
     "output_type": "execute_result"
    }
   ],
   "source": [
    "api_response"
   ]
  },
  {
   "cell_type": "code",
   "execution_count": 12,
   "metadata": {},
   "outputs": [
    {
     "ename": "KeyError",
     "evalue": "'results'",
     "output_type": "error",
     "traceback": [
      "\u001b[1;31m---------------------------------------------------------------------------\u001b[0m",
      "\u001b[1;31mKeyError\u001b[0m                                  Traceback (most recent call last)",
      "\u001b[1;32mc:\\Users\\disc2\\Desktop\\Research\\Senior_Project\\Data_Cleaning.ipynb Cell 7\u001b[0m line \u001b[0;36m1\n\u001b[1;32m----> <a href='vscode-notebook-cell:/c%3A/Users/disc2/Desktop/Research/Senior_Project/Data_Cleaning.ipynb#W6sZmlsZQ%3D%3D?line=0'>1</a>\u001b[0m \u001b[39mfor\u001b[39;00m flight \u001b[39min\u001b[39;00m api_response[\u001b[39m'\u001b[39;49m\u001b[39mresults\u001b[39;49m\u001b[39m'\u001b[39;49m]:\n\u001b[0;32m      <a href='vscode-notebook-cell:/c%3A/Users/disc2/Desktop/Research/Senior_Project/Data_Cleaning.ipynb#W6sZmlsZQ%3D%3D?line=1'>2</a>\u001b[0m     \u001b[39mif\u001b[39;00m (flight[\u001b[39m'\u001b[39m\u001b[39mlive\u001b[39m\u001b[39m'\u001b[39m][\u001b[39m'\u001b[39m\u001b[39mis_ground\u001b[39m\u001b[39m'\u001b[39m] \u001b[39mis\u001b[39;00m \u001b[39mFalse\u001b[39;00m):\n\u001b[0;32m      <a href='vscode-notebook-cell:/c%3A/Users/disc2/Desktop/Research/Senior_Project/Data_Cleaning.ipynb#W6sZmlsZQ%3D%3D?line=2'>3</a>\u001b[0m         \u001b[39mprint\u001b[39m(\u001b[39mu\u001b[39m\u001b[39m'\u001b[39m\u001b[39m%s\u001b[39;00m\u001b[39m flight \u001b[39m\u001b[39m%s\u001b[39;00m\u001b[39m from \u001b[39m\u001b[39m%s\u001b[39;00m\u001b[39m (\u001b[39m\u001b[39m%s\u001b[39;00m\u001b[39m) to \u001b[39m\u001b[39m%s\u001b[39;00m\u001b[39m (\u001b[39m\u001b[39m%s\u001b[39;00m\u001b[39m) is in the air.\u001b[39m\u001b[39m'\u001b[39m \u001b[39m%\u001b[39m (\n\u001b[0;32m      <a href='vscode-notebook-cell:/c%3A/Users/disc2/Desktop/Research/Senior_Project/Data_Cleaning.ipynb#W6sZmlsZQ%3D%3D?line=3'>4</a>\u001b[0m             flight[\u001b[39m'\u001b[39m\u001b[39mairline\u001b[39m\u001b[39m'\u001b[39m][\u001b[39m'\u001b[39m\u001b[39mname\u001b[39m\u001b[39m'\u001b[39m],\n\u001b[0;32m      <a href='vscode-notebook-cell:/c%3A/Users/disc2/Desktop/Research/Senior_Project/Data_Cleaning.ipynb#W6sZmlsZQ%3D%3D?line=4'>5</a>\u001b[0m             flight[\u001b[39m'\u001b[39m\u001b[39mflight\u001b[39m\u001b[39m'\u001b[39m][\u001b[39m'\u001b[39m\u001b[39miata\u001b[39m\u001b[39m'\u001b[39m],\n\u001b[1;32m   (...)\u001b[0m\n\u001b[0;32m      <a href='vscode-notebook-cell:/c%3A/Users/disc2/Desktop/Research/Senior_Project/Data_Cleaning.ipynb#W6sZmlsZQ%3D%3D?line=7'>8</a>\u001b[0m             flight[\u001b[39m'\u001b[39m\u001b[39marrival\u001b[39m\u001b[39m'\u001b[39m][\u001b[39m'\u001b[39m\u001b[39mairport\u001b[39m\u001b[39m'\u001b[39m],\n\u001b[0;32m      <a href='vscode-notebook-cell:/c%3A/Users/disc2/Desktop/Research/Senior_Project/Data_Cleaning.ipynb#W6sZmlsZQ%3D%3D?line=8'>9</a>\u001b[0m             flight[\u001b[39m'\u001b[39m\u001b[39marrival\u001b[39m\u001b[39m'\u001b[39m][\u001b[39m'\u001b[39m\u001b[39miata\u001b[39m\u001b[39m'\u001b[39m]))\n",
      "\u001b[1;31mKeyError\u001b[0m: 'results'"
     ]
    }
   ],
   "source": [
    "for flight in api_response['results']:\n",
    "    if (flight['live']['is_ground'] is False):\n",
    "        print(u'%s flight %s from %s (%s) to %s (%s) is in the air.' % (\n",
    "            flight['airline']['name'],\n",
    "            flight['flight']['iata'],\n",
    "            flight['departure']['airport'],\n",
    "            flight['departure']['iata'],\n",
    "            flight['arrival']['airport'],\n",
    "            flight['arrival']['iata']))"
   ]
  }
 ],
 "metadata": {
  "kernelspec": {
   "display_name": "Airline_Analytics_Env",
   "language": "python",
   "name": "python3"
  },
  "language_info": {
   "codemirror_mode": {
    "name": "ipython",
    "version": 3
   },
   "file_extension": ".py",
   "mimetype": "text/x-python",
   "name": "python",
   "nbconvert_exporter": "python",
   "pygments_lexer": "ipython3",
   "version": "3.11.0"
  },
  "orig_nbformat": 4
 },
 "nbformat": 4,
 "nbformat_minor": 2
}
